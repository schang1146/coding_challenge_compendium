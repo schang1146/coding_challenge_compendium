{
 "metadata": {
  "language_info": {
   "codemirror_mode": {
    "name": "ipython",
    "version": 3
   },
   "file_extension": ".py",
   "mimetype": "text/x-python",
   "name": "python",
   "nbconvert_exporter": "python",
   "pygments_lexer": "ipython3",
   "version": "3.8.5-final"
  },
  "orig_nbformat": 2,
  "kernelspec": {
   "name": "python_defaultSpec_1600320575152",
   "display_name": "Python 3.8.5 32-bit"
  }
 },
 "nbformat": 4,
 "nbformat_minor": 2,
 "cells": [
  {
   "source": [
    "# [421. Maximum XOR of Two Numbers in an Array](https://leetcode.com/problems/maximum-xor-of-two-numbers-in-an-array/)"
   ],
   "cell_type": "markdown",
   "metadata": {}
  },
  {
   "source": [
    "**Difficulty**: Medium\n",
    "\n",
    "Given an integer array `nums`, return _the maximum result of_ `nums[i] XOR nums[j]`, where `0 ≤ i ≤ j < n`.\n",
    "\n",
    "**Follow up:** Could you do this in O(_n_) runtime?\n",
    "\n",
    "**Example 1:**\n",
    "\n",
    "<pre>\n",
    "<b>Input:</b> [3, 10, 5, 25, 2, 8]\n",
    "<b>Output:</b> 28\n",
    "<b>Explanation:</b> The maximum result is <b>5</b> ^ <b>25</b> = 28.\n",
    "</pre>\n",
    "\n",
    "**Example 2:**\n",
    "\n",
    "<pre>\n",
    "<b>Input:</b> [0]\n",
    "<b>Output:</b> 0\n",
    "</pre>\n",
    "\n",
    "**Example 3:**\n",
    "\n",
    "<pre>\n",
    "<b>Input:</b> [2, 4]\n",
    "<b>Output:</b> 6\n",
    "</pre>\n",
    "\n",
    "**Example 4:**\n",
    "\n",
    "<pre>\n",
    "<b>Input:</b> [8, 10, 2]\n",
    "<b>Output:</b> 10\n",
    "</pre>\n",
    "\n",
    "**Example 5:**\n",
    "\n",
    "<pre>\n",
    "<b>Input:</b> [14, 70, 53, 83, 49, 91, 36, 80, 92, 51, 66, 70]\n",
    "<b>Output:</b> 127\n",
    "</pre>\n",
    "\n",
    "**Constraints:**\n",
    "\n",
    "-   1 ≤ nums.length ≤ 2 \\* 10<sup>4</sup>\n",
    "-   0 ≤ nums\\[i] ≤ 2<sup>31</sup> - 1\n",
    "\n",
    "---\n",
    "\n",
    "**Related Topics:** `Bit Manipulation` `Trie`"
   ],
   "cell_type": "markdown",
   "metadata": {}
  },
  {
   "cell_type": "code",
   "execution_count": 1,
   "metadata": {
    "tags": []
   },
   "outputs": [],
   "source": [
    "from typing import List"
   ]
  },
  {
   "source": [
    "## Brute Force Solution"
   ],
   "cell_type": "markdown",
   "metadata": {}
  },
  {
   "source": [
    "class Solution:\n",
    "    def findMaximumXOR_bruteforce(nums: List[int]) -> int:\n",
    "        # initialize max_xor\n",
    "        max_xor = 0\n",
    "\n",
    "        # loop through all numbers in nums\n",
    "        for x in range(len(nums)):\n",
    "            # loop through remaining numbers in nums\n",
    "            for y in range(x+1, len(nums)):\n",
    "                # check if XOR of the two elements is greater\n",
    "                # than what we have saved as max_xor\n",
    "                if nums[x] ^ nums[y] > max_xor:\n",
    "                    max_xor = nums[x] ^ nums[y]\n",
    "\n",
    "        return max_xor"
   ],
   "cell_type": "code",
   "metadata": {},
   "execution_count": 5,
   "outputs": []
  },
  {
   "source": [
    "## Hash Set Solution"
   ],
   "cell_type": "markdown",
   "metadata": {}
  },
  {
   "cell_type": "code",
   "execution_count": null,
   "metadata": {},
   "outputs": [],
   "source": [
    "class Solution:\n",
    "    def findMaximumXOR_hashset(self, nums: List[int]) -> int:\n",
    "        # initialize max_xor\n",
    "        max_xor = 0\n",
    "        # initialize L to be max number of bits needed\n",
    "        L = len(bin(max(nums))) - 2  # minus 2 because formats to '0b...'\n",
    "\n",
    "        # loop through bits in nums\n",
    "        for shift in range(L)[::-1]:\n",
    "\n",
    "            # left shift max_xor to make room for a byte\n",
    "            max_xor <<= 1\n",
    "\n",
    "            # initialize curr_xor as the maximum value we could have\n",
    "            # by setting right most byte of max_xor to 1\n",
    "            curr_xor = max_xor | 1\n",
    "\n",
    "            # loop through all possible ways to get curr_xor with\n",
    "            # the numbers we have by shifting all of them and\n",
    "            # checking if any shifted num[i] XOR num[j] == curr_xor\n",
    "            prefixes = {num >> shift for num in nums}\n",
    "            print(prefixes)\n",
    "            for prefix in prefixes:\n",
    "                # if we do find one that matches, we know that max_xor\n",
    "                # can equal curr_xor so we redefine and continue with\n",
    "                # the loop to add more bytes to the end of max_xor\n",
    "\n",
    "                # if no match is found, max_xor will keep the right most\n",
    "                # 0 byte keep continuing from there\n",
    "                if curr_xor ^ prefix in prefixes:\n",
    "                    max_xor = curr_xor\n",
    "                    break\n",
    "\n",
    "        return max_xor"
   ]
  },
  {
   "source": [
    "## Trie Solution"
   ],
   "cell_type": "markdown",
   "metadata": {}
  },
  {
   "cell_type": "code",
   "execution_count": null,
   "metadata": {},
   "outputs": [],
   "source": [
    "class Solution:\n",
    "    def findMaximumXOR_trie(self, nums: List[int]) -> int:\n",
    "        pass"
   ]
  }
 ]
}