{
 "metadata": {
  "language_info": {
   "codemirror_mode": {
    "name": "ipython",
    "version": 3
   },
   "file_extension": ".py",
   "mimetype": "text/x-python",
   "name": "python",
   "nbconvert_exporter": "python",
   "pygments_lexer": "ipython3",
   "version": "3.8.5-final"
  },
  "orig_nbformat": 2,
  "kernelspec": {
   "name": "python_defaultSpec_1600320575152",
   "display_name": "Python 3.8.5 32-bit"
  }
 },
 "nbformat": 4,
 "nbformat_minor": 2,
 "cells": [
  {
   "source": [
    "# [421. Maximum XOR of Two Numbers in an Array](https://leetcode.com/problems/maximum-xor-of-two-numbers-in-an-array/)"
   ],
   "cell_type": "markdown",
   "metadata": {}
  },
  {
   "source": [
    "**Difficulty**: Medium\n",
    "\n",
    "Given an integer array `nums`, return _the maximum result of_ `nums[i] XOR nums[j]`, where `0 ≤ i ≤ j < n`.\n",
    "\n",
    "**Follow up:** Could you do this in O(_n_) runtime?\n",
    "\n",
    "**Example 1:**\n",
    "\n",
    "<pre>\n",
    "<b>Input:</b> [3, 10, 5, 25, 2, 8]\n",
    "<b>Output:</b> 28\n",
    "<b>Explanation:</b> The maximum result is <b>5</b> ^ <b>25</b> = 28.\n",
    "</pre>\n",
    "\n",
    "**Example 2:**\n",
    "\n",
    "<pre>\n",
    "<b>Input:</b> [0]\n",
    "<b>Output:</b> 0\n",
    "</pre>\n",
    "\n",
    "**Example 3:**\n",
    "\n",
    "<pre>\n",
    "<b>Input:</b> [2, 4]\n",
    "<b>Output:</b> 6\n",
    "</pre>\n",
    "\n",
    "**Example 4:**\n",
    "\n",
    "<pre>\n",
    "<b>Input:</b> [8, 10, 2]\n",
    "<b>Output:</b> 10\n",
    "</pre>\n",
    "\n",
    "**Example 5:**\n",
    "\n",
    "<pre>\n",
    "<b>Input:</b> [14, 70, 53, 83, 49, 91, 36, 80, 92, 51, 66, 70]\n",
    "<b>Output:</b> 127\n",
    "</pre>\n",
    "\n",
    "**Constraints:**\n",
    "\n",
    "-   1 ≤ nums.length ≤ 2 \\* 10<sup>4</sup>\n",
    "-   0 ≤ nums\\[i] ≤ 2<sup>31</sup> - 1\n",
    "\n",
    "---\n",
    "\n",
    "**Related Topics:** `Bit Manipulation` `Trie`"
   ],
   "cell_type": "markdown",
   "metadata": {}
  },
  {
   "cell_type": "code",
   "execution_count": 1,
   "metadata": {
    "tags": []
   },
   "outputs": [],
   "source": [
    "from typing import List"
   ]
  },
  {
   "source": [
    "## Brute Force Solution"
   ],
   "cell_type": "markdown",
   "metadata": {}
  },
  {
   "source": [
    "class Solution:\n",
    "    def findMaximumXOR(nums: List[int]) -> int:\n",
    "        max_xor = 0\n",
    "        for x in range(len(nums)):\n",
    "            for y in range(x+1, len(nums)):\n",
    "                if nums[x]^nums[y] > max_xor:\n",
    "                    max_xor = nums[x]^nums[y]\n",
    "        return max_xor"
   ],
   "cell_type": "code",
   "metadata": {},
   "execution_count": 5,
   "outputs": []
  },
  {
   "cell_type": "code",
   "execution_count": null,
   "metadata": {},
   "outputs": [],
   "source": [
    "class Solution:\n",
    "    def findMaximumXOR(self, nums: List[int]) -> int:\n",
    "        pass"
   ]
  },
  {
   "cell_type": "code",
   "execution_count": 6,
   "metadata": {
    "tags": []
   },
   "outputs": [
    {
     "output_type": "stream",
     "name": "stdout",
     "text": "28\n"
    }
   ],
   "source": [
    "print(Solution.findMaximumXOR([3, 10, 5, 25, 2, 8]))"
   ]
  },
  {
   "cell_type": "code",
   "execution_count": null,
   "metadata": {},
   "outputs": [],
   "source": []
  }
 ]
}